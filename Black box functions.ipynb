{
 "cells": [
  {
   "cell_type": "code",
   "execution_count": 1,
   "id": "6f678e52-8fa2-4cda-ae3c-405dfd33c6b2",
   "metadata": {},
   "outputs": [
    {
     "name": "stderr",
     "output_type": "stream",
     "text": [
      "<frozen importlib._bootstrap>:219: RuntimeWarning: scipy._lib.messagestream.MessageStream size changed, may indicate binary incompatibility. Expected 56 from C header, got 64 from PyObject\n"
     ]
    }
   ],
   "source": [
    "import numpy as np\n",
    "\n",
    "# Importing standard Qiskit libraries\n",
    "from qiskit import QuantumCircuit, transpile, Aer, IBMQ\n",
    "from qiskit.tools.jupyter import *\n",
    "from qiskit.visualization import *\n",
    "from ibm_quantum_widgets import *\n",
    "from qiskit.providers.aer import QasmSimulator\n",
    "\n",
    "# Loading your IBM Quantum account(s)\n",
    "provider = IBMQ.load_account()"
   ]
  },
  {
   "cell_type": "code",
   "execution_count": 2,
   "id": "431048aa-67ac-4059-9148-3244161111af",
   "metadata": {},
   "outputs": [],
   "source": [
    "### Square pulse function ###\n",
    "\n",
    "### Give this function the parameters for a square pulse and it will return a square pulse experiment.\n",
    "\n",
    "def Square_pulse_to_PE(backend_QC, qubit, drive_dur, drive_amp, drive_freq):\n",
    "    \n",
    "    from qiskit import pulse\n",
    "    from qiskit.circuit import Gate\n",
    "\n",
    "    provider = IBMQ.get_provider(hub='ibm-q', group='open', project='main')\n",
    "    backend = provider.get_backend(backend_QC)\n",
    "\n",
    "    envelope = pulse.Constant(duration=drive_dur,\n",
    "                              amp=drive_amp,\n",
    "                              name='excitation_pulse')\n",
    "    \n",
    "    with pulse.build(backend=backend) as single_pulse:\n",
    "        drive_chan = pulse.drive_channel(qubit) \n",
    "        pulse.set_frequency(drive_freq, drive_chan)\n",
    "        pulse.play(envelope, drive_chan)\n",
    "        \n",
    "    PE = QuantumCircuit(1, 1)\n",
    "    pulse_gate = Gate(\"pulse_gate\", 1, [])\n",
    "    PE.append(pulse_gate, [0]) \n",
    "    PE.add_calibration(pulse_gate, [0], single_pulse) \n",
    "    PE.measure(0,0)\n",
    "    \n",
    "    return PE\n",
    "\n",
    "### Further details ###\n",
    "\n",
    "#Supply a backend quantum computer as a string..\n",
    "#Supply the qubit that you wish to work on. This is an integer number starting from 0.\n",
    "#Supply a drive duration in integer steps of dt = 0.222 ns. Must be at least 64 long, must be a multiple of 16.\n",
    "#Supply an amplitude. Must be between 0 and 1.\n",
    "#Supply a drive frequency in Hz.\n",
    "#Returns a pulse experiment."
   ]
  },
  {
   "cell_type": "code",
   "execution_count": 3,
   "id": "0362373e-d84c-447d-9c20-835585c24fe6",
   "metadata": {},
   "outputs": [],
   "source": [
    "### Gaussian pulse function ###\n",
    "\n",
    "### Give this function the parameters for a Gaussian pulse and it will return a Gaussian pulse experiment.\n",
    "\n",
    "def Gaussian_pulse_to_PE(backend_QC, qubit, drive_dur, drive_sig, drive_amp, drive_freq):\n",
    "    \n",
    "    from qiskit import pulse\n",
    "    from qiskit.circuit import Gate\n",
    "\n",
    "    provider = IBMQ.get_provider(hub='ibm-q', group='open', project='main')\n",
    "    backend = provider.get_backend(backend_QC)\n",
    "\n",
    "    envelope = pulse.Gaussian(duration=drive_dur,\n",
    "                              sigma=drive_sig,\n",
    "                              amp=drive_amp,\n",
    "                              name='excitation_pulse')\n",
    "    \n",
    "    with pulse.build(backend=backend) as single_pulse:\n",
    "        drive_chan = pulse.drive_channel(qubit) \n",
    "        pulse.set_frequency(drive_freq, drive_chan)\n",
    "        pulse.play(envelope, drive_chan)\n",
    "        \n",
    "    PE = QuantumCircuit(1, 1)\n",
    "    pulse_gate = Gate(\"pulse_gate\", 1, [])\n",
    "    PE.append(pulse_gate, [0]) \n",
    "    PE.add_calibration(pulse_gate, [0], single_pulse) \n",
    "    PE.measure(0,0)\n",
    "    \n",
    "    return PE\n",
    "\n",
    "### Further details ###\n",
    "\n",
    "#Supply a backend quantum computer as a string.\n",
    "#Supply the qubit that you wish to work on. This is an integer number starting from 0.\n",
    "#Supply a drive duration in integer steps of dt = 0.222 ns. Must be at least 64 long, must be a multiple of 16.\n",
    "#Supply the standard deviation of the Gaussian envelope.\n",
    "#Supply an amplitude. Must be between 0 and 1.\n",
    "#Supply a drive frequency in Hz.\n",
    "#Returns a pulse experiment."
   ]
  },
  {
   "cell_type": "code",
   "execution_count": 4,
   "id": "50c80a2d-dd23-46b8-8533-805ff045b840",
   "metadata": {},
   "outputs": [],
   "source": [
    "### Running pulse experiments function ###\n",
    "\n",
    "### Give this function a pulse experiment or a list of pulse experiments and it will run them on a real quantum computer.\n",
    "\n",
    "def Results_from_PE(backend_QC, PE, num_run, list_PE):\n",
    "    \n",
    "    provider = IBMQ.get_provider(hub='ibm-q', group='open', project='main')\n",
    "    backend = provider.get_backend(backend_QC)\n",
    "\n",
    "    job = backend.run(PE, \n",
    "                      meas_level=2,\n",
    "                      memory=True,\n",
    "                      shots=num_run)\n",
    "    \n",
    "    results = job.result()\n",
    "    \n",
    "    if list_PE == True:\n",
    "        \n",
    "        exp = []\n",
    "        \n",
    "        for i in range(len(PE)):\n",
    "            exp.append(results.get_memory(i))\n",
    "        \n",
    "        return exp\n",
    "    \n",
    "    else:\n",
    "        return results.get_memory()\n",
    "    \n",
    "### Further details ###\n",
    "\n",
    "#Supply a backend quantum computer as a string. Must match the backend used to create the pulse experiment.\n",
    "#Supply a pulse experiment or a list of pulse experiments to run.\n",
    "#Supply an integer telling the function how many times you want to run each pulse experiment.\n",
    "#Supply a boolean. True if you want to run a list of pulse experiments, false if you want to run a single pulse experiment.\n",
    "#Returns a list (or list of lists) of strings. Each string is either '0' og '1' depending on the qubit state after measurement.\n",
    "\n",
    "#NB! You can run a list of at most 100 pulse experiments at a time."
   ]
  },
  {
   "cell_type": "code",
   "execution_count": 5,
   "id": "083fbf96-7f8c-4908-879e-bea5150e49e3",
   "metadata": {},
   "outputs": [
    {
     "name": "stdout",
     "output_type": "stream",
     "text": [
      "On average, the state of our qubit after the experiment was 0.225.\n"
     ]
    }
   ],
   "source": [
    "### Example: Send a single pulse with a square envelope ###\n",
    "\n",
    "#Parameters\n",
    "backend_QC = 'ibmq_belem'\n",
    "qubit = 0\n",
    "drive_dur = 128 \n",
    "drive_amp = 0.05 \n",
    "drive_freq = 5.09*1e9\n",
    "num_run = 1000\n",
    "\n",
    "#Send pulse\n",
    "PE = Square_pulse_to_PE(backend_QC, qubit, drive_dur, drive_amp, drive_freq)\n",
    "results = Results_from_PE(backend_QC, PE, num_run, False)\n",
    "\n",
    "#Print results\n",
    "results = [int(x) for x in results]\n",
    "print(f\"On average, the state of our qubit after the experiment was {np.mean(results)}.\")"
   ]
  },
  {
   "cell_type": "code",
   "execution_count": 6,
   "id": "28ac1e3f-613b-4afc-91d9-b51d8a4acab3",
   "metadata": {},
   "outputs": [
    {
     "data": {
      "image/png": "[encoded data removed]",
      "text/plain": [
       "<Figure size 432x288 with 1 Axes>"
      ]
     },
     "metadata": {
      "needs_background": "light"
     },
     "output_type": "display_data"
    }
   ],
   "source": [
    "### Example: Frequency sweeping with square envelopes ###\n",
    "\n",
    "#Parameters\n",
    "backend_QC = 'ibmq_belem'\n",
    "qubit = 0\n",
    "drive_dur = 480 \n",
    "drive_amp = 0.05 \n",
    "num_run = 1000\n",
    "frequencies_Hz = np.arange(5.05*1e9, 5.13*1e9, 1e6)\n",
    "\n",
    "#For-loop different frequencies\n",
    "freq_sweep_PE_list = []\n",
    "\n",
    "for drive_freq in frequencies_Hz:\n",
    "    PE = Square_pulse_to_PE(backend_QC, qubit, drive_dur, drive_amp, drive_freq)\n",
    "    freq_sweep_PE_list.append(PE)\n",
    "\n",
    "#Send pulse\n",
    "results = Results_from_PE(backend_QC, freq_sweep_PE_list, num_run, True)\n",
    "\n",
    "#Plot results\n",
    "avg_qubit = []\n",
    "\n",
    "for i in range(len(results)):\n",
    "    qubit_states = [int(x) for x in results[i]]\n",
    "    qubit_states_avg = np.mean(qubit_states)\n",
    "    avg_qubit.append(qubit_states_avg)\n",
    "\n",
    "import matplotlib.pyplot as plt\n",
    "\n",
    "plt.scatter(frequencies_Hz/1e9, avg_qubit, color='black')\n",
    "plt.xlim([min(frequencies_Hz/1e9), max(frequencies_Hz/1e9)])\n",
    "plt.xlabel(\"Frequency of pulse [GHz]\")\n",
    "plt.ylabel(\"Average qubit value\")\n",
    "plt.show()"
   ]
  },
  {
   "cell_type": "code",
   "execution_count": 7,
   "id": "b9cdea8e-85c4-489f-b663-0e6afada5874",
   "metadata": {},
   "outputs": [
    {
     "data": {
      "image/png": "[encoded data removed]",
      "text/plain": [
       "<Figure size 432x288 with 1 Axes>"
      ]
     },
     "metadata": {
      "needs_background": "light"
     },
     "output_type": "display_data"
    }
   ],
   "source": [
    "### Example: Rabi experiment with square envelopes ###\n",
    "\n",
    "#Parameters\n",
    "backend_QC = 'ibmq_belem'\n",
    "qubit = 0\n",
    "drive_amp = 0.05 \n",
    "drive_freq = 5.09*1e9\n",
    "num_run = 1000\n",
    "drive_dur_list = np.arange(20*16, 180*16, 5*16).tolist()\n",
    "\n",
    "#For-loop different durations\n",
    "rabi_PE_list = []\n",
    "\n",
    "for drive_dur in drive_dur_list:\n",
    "    PE = Square_pulse_to_PE(backend_QC, qubit, drive_dur, drive_amp, drive_freq)\n",
    "    rabi_PE_list.append(PE)\n",
    "\n",
    "#Send pulse\n",
    "results = Results_from_PE(backend_QC, rabi_PE_list, num_run, True)\n",
    "\n",
    "#Plot results\n",
    "avg_qubit = []\n",
    "\n",
    "for i in range(len(results)):\n",
    "    qubit_states = [int(x) for x in results[i]]\n",
    "    qubit_states_avg = np.mean(qubit_states)\n",
    "    avg_qubit.append(qubit_states_avg)\n",
    "\n",
    "import matplotlib.pyplot as plt\n",
    "\n",
    "plt.scatter(drive_dur_list, avg_qubit, color='black')\n",
    "plt.xlim([min(drive_dur_list), max(drive_dur_list)])\n",
    "plt.xlabel(\"Pulse duration [dt]\")\n",
    "plt.ylabel(\"Average qubit value\")\n",
    "plt.show()"
   ]
  },
  {
   "cell_type": "code",
   "execution_count": 8,
   "id": "0d000ecc-cb55-4035-8c9c-6614fb1a0155",
   "metadata": {},
   "outputs": [
    {
     "name": "stdout",
     "output_type": "stream",
     "text": [
      "On average, the state of our qubit after the experiment was 0.051.\n"
     ]
    }
   ],
   "source": [
    "### Example: Send a single pulse with a Gaussian envelope ###\n",
    "\n",
    "#Parameters\n",
    "backend_QC = 'ibmq_belem'\n",
    "qubit = 0\n",
    "drive_dur = 128 \n",
    "drive_sig = drive_dur/5 \n",
    "drive_amp = 0.05 \n",
    "drive_freq = 5.09*1e9 \n",
    "num_run = 1000\n",
    "\n",
    "#Send pulse\n",
    "PE = Gaussian_pulse_to_PE(backend_QC, qubit, drive_dur, drive_sig, drive_amp, drive_freq)\n",
    "results = Results_from_PE(backend_QC, PE, num_run, False)\n",
    "\n",
    "#Print results\n",
    "results = [int(x) for x in results]\n",
    "print(f\"On average, the state of our qubit after the experiment was {np.mean(results)}.\")"
   ]
  },
  {
   "cell_type": "code",
   "execution_count": 9,
   "id": "dc983377-3146-42a5-bf94-01f51b880a48",
   "metadata": {},
   "outputs": [
    {
     "data": {
      "image/png": "[encoded data removed]",
      "text/plain": [
       "<Figure size 432x288 with 1 Axes>"
      ]
     },
     "metadata": {
      "needs_background": "light"
     },
     "output_type": "display_data"
    }
   ],
   "source": [
    "### Example: Frequency sweeping with Gaussian envelopes ###\n",
    "\n",
    "#Parameters\n",
    "backend_QC = 'ibmq_belem'\n",
    "qubit = 0\n",
    "drive_dur = 480\n",
    "drive_sig = drive_dur/5\n",
    "drive_amp = 0.05 \n",
    "num_run = 1000\n",
    "frequencies_Hz = np.arange(5.05*1e9, 5.13*1e9, 1e6)\n",
    "\n",
    "#For-loop different frequencies\n",
    "freq_sweep_PE_list = []\n",
    "\n",
    "for drive_freq in frequencies_Hz:\n",
    "    PE = Gaussian_pulse_to_PE(backend_QC, qubit, drive_dur, drive_sig, drive_amp, drive_freq)\n",
    "    freq_sweep_PE_list.append(PE)\n",
    "\n",
    "#Send pulse\n",
    "results = Results_from_PE(backend_QC, freq_sweep_PE_list, num_run, True)\n",
    "\n",
    "#Plot results\n",
    "avg_qubit = []\n",
    "\n",
    "for i in range(len(results)):\n",
    "    qubit_states = [int(x) for x in results[i]]\n",
    "    qubit_states_avg = np.mean(qubit_states)\n",
    "    avg_qubit.append(qubit_states_avg)\n",
    "\n",
    "import matplotlib.pyplot as plt\n",
    "\n",
    "plt.scatter(frequencies_Hz/1e9, avg_qubit, color='black')\n",
    "plt.xlim([min(frequencies_Hz/1e9), max(frequencies_Hz/1e9)])\n",
    "plt.xlabel(\"Frequency of pulse [GHz]\")\n",
    "plt.ylabel(\"Average qubit value\")\n",
    "plt.show()"
   ]
  },
  {
   "cell_type": "code",
   "execution_count": 10,
   "id": "65e825f3-cd1d-4261-9f1c-7934dc67b1f5",
   "metadata": {},
   "outputs": [
    {
     "data": {
      "image/png": "[encoded data removed]",
      "text/plain": [
       "<Figure size 432x288 with 1 Axes>"
      ]
     },
     "metadata": {
      "needs_background": "light"
     },
     "output_type": "display_data"
    }
   ],
   "source": [
    "### Example: Rabi experiment with Gaussian envelopes ###\n",
    "\n",
    "#Parameters\n",
    "backend_QC = 'ibmq_belem'\n",
    "qubit = 0\n",
    "drive_amp = 0.05 \n",
    "drive_freq = 5.09*1e9\n",
    "num_run = 1000\n",
    "drive_dur_list = np.arange(20*16, 180*16, 5*16).tolist()\n",
    "\n",
    "#For-loop different durations\n",
    "rabi_PE_list = []\n",
    "\n",
    "for drive_dur in drive_dur_list:\n",
    "    \n",
    "    drive_sig = drive_dur/5\n",
    "    \n",
    "    PE = Gaussian_pulse_to_PE(backend_QC, qubit, drive_dur, drive_sig, drive_amp, drive_freq)\n",
    "    rabi_PE_list.append(PE)\n",
    "\n",
    "#Send pulse\n",
    "results = Results_from_PE(backend_QC, rabi_PE_list, num_run, True)\n",
    "\n",
    "#Plot results\n",
    "avg_qubit = []\n",
    "\n",
    "for i in range(len(results)):\n",
    "    qubit_states = [int(x) for x in results[i]]\n",
    "    qubit_states_avg = np.mean(qubit_states)\n",
    "    avg_qubit.append(qubit_states_avg)\n",
    "\n",
    "import matplotlib.pyplot as plt\n",
    "\n",
    "plt.scatter(drive_dur_list, avg_qubit, color='black')\n",
    "plt.xlim([min(drive_dur_list), max(drive_dur_list)])\n",
    "plt.xlabel(\"Pulse duration [dt]\")\n",
    "plt.ylabel(\"Average qubit value\")\n",
    "plt.show()"
   ]
  },
  {
   "cell_type": "code",
   "execution_count": null,
   "id": "a2b4dd68-a612-485a-920a-fd3745628e30",
   "metadata": {},
   "outputs": [],
   "source": []
  }
 ],
 "metadata": {
  "kernelspec": {
   "display_name": "Python 3 (ipykernel)",
   "language": "python",
   "name": "python3"
  },
  "language_info": {
   "codemirror_mode": {
    "name": "ipython",
    "version": 3
   },
   "file_extension": ".py",
   "mimetype": "text/x-python",
   "name": "python",
   "nbconvert_exporter": "python",
   "pygments_lexer": "ipython3",
   "version": "3.8.13"
  },
  "widgets": {
   "application/vnd.jupyter.widget-state+json": {
    "state": {
     "0564bf657898490f8205f05dc23fea21": {
      "model_module": "@jupyter-widgets/controls",
      "model_module_version": "1.5.0",
      "model_name": "HTMLModel",
      "state": {
       "layout": "IPY_MODEL_e2196f16a1a14ad5accc89ff2a8b1bac",
       "style": "IPY_MODEL_ae61919ce74e490d8a6b57c50c8f4012",
       "value": "<font style='color:#34BC6E'>DONE</font>"
      }
     },
     "05e76cbd0544452f97a4b94932e74b48": {
      "model_module": "@jupyter-widgets/base",
      "model_module_version": "1.2.0",
      "model_name": "LayoutModel",
      "state": {
       "grid_area": "right",
       "padding": "0px 0px 0px 0px",
       "width": "70px"
      }
     },
     "14a4cae405c844ffba88cc0de06f01cb": {
      "model_module": "@jupyter-widgets/controls",
      "model_module_version": "1.5.0",
      "model_name": "HTMLModel",
      "state": {
       "layout": "IPY_MODEL_1ba991553de949799ef0fe6259786f18",
       "style": "IPY_MODEL_5c99f13003384fccbfefa4c3de35b654",
       "value": "<font style='color:#34BC6E'>DONE</font>"
      }
     },
     "17d77daf586c4effb91a104df2d7125d": {
      "model_module": "@jupyter-widgets/controls",
      "model_module_version": "1.5.0",
      "model_name": "DescriptionStyleModel",
      "state": {
       "description_width": ""
      }
     },
     "197b06358c47434db2827c5c7059e6f7": {
      "model_module": "@jupyter-widgets/controls",
      "model_module_version": "1.5.0",
      "model_name": "DescriptionStyleModel",
      "state": {
       "description_width": ""
      }
     },
     "198f9eb3dacb40d886649989caf92e63": {
      "model_module": "@jupyter-widgets/controls",
      "model_module_version": "1.5.0",
      "model_name": "HBoxModel",
      "state": {
       "children": [
        "IPY_MODEL_87b8c5d83a8545e9a9ee5bcf779d0709",
        "IPY_MODEL_2cb1f9bfa5c8441b98df10a823d1c2dc",
        "IPY_MODEL_65d2709c003347a09a67a2435014e38a",
        "IPY_MODEL_0564bf657898490f8205f05dc23fea21",
        "IPY_MODEL_19930ab9670d404eaca51220543fc71f",
        "IPY_MODEL_4760e531370449928491c05c3c1ad87c"
       ],
       "layout": "IPY_MODEL_ecf1e082d20847d9ad459074be2a19e5"
      }
     },
     "19930ab9670d404eaca51220543fc71f": {
      "model_module": "@jupyter-widgets/controls",
      "model_module_version": "1.5.0",
      "model_name": "HTMLModel",
      "state": {
       "layout": "IPY_MODEL_35cba7927d4d4e3aa45f9ba9f428dc26",
       "style": "IPY_MODEL_dcc780be49c04553bfd746629cec5d06",
       "value": "-"
      }
     },
     "1ba991553de949799ef0fe6259786f18": {
      "model_module": "@jupyter-widgets/base",
      "model_module_version": "1.2.0",
      "model_name": "LayoutModel",
      "state": {
       "width": "95px"
      }
     },
     "1df5f09b31134688866249ac6d07a31e": {
      "model_module": "@jupyter-widgets/controls",
      "model_module_version": "1.5.0",
      "model_name": "HTMLModel",
      "state": {
       "layout": "IPY_MODEL_dea57b38d74149c1b580163e10da19ef",
       "style": "IPY_MODEL_6f57f2d7c4af41229cb835824c5a30e8",
       "value": "job has successfully run"
      }
     },
     "1fc9eb6bf62b41a8930a6e2325b5ca63": {
      "model_module": "@jupyter-widgets/base",
      "model_module_version": "1.2.0",
      "model_name": "LayoutModel",
      "state": {
       "width": "70px"
      }
     },
     "1fd791bbca834aabb08899838c2a0534": {
      "model_module": "@jupyter-widgets/base",
      "model_module_version": "1.2.0",
      "model_name": "LayoutModel",
      "state": {
       "width": "70px"
      }
     },
     "211a8081cc704636b2383ea19f86ab44": {
      "model_module": "@jupyter-widgets/controls",
      "model_module_version": "1.5.0",
      "model_name": "DescriptionStyleModel",
      "state": {
       "description_width": ""
      }
     },
     "2228112381884067912983ca17ef4891": {
      "model_module": "@jupyter-widgets/base",
      "model_module_version": "1.2.0",
      "model_name": "LayoutModel",
      "state": {
       "max_width": "700px",
       "min_width": "700px"
      }
     },
     "222f8fdea3d6407eaca8b9716aef460c": {
      "model_module": "@jupyter-widgets/base",
      "model_module_version": "1.2.0",
      "model_name": "LayoutModel",
      "state": {
       "margin": "0px 5px 0px 0px",
       "width": "32px"
      }
     },
     "259e9f2fa54f4a21822ca6fb44e8e900": {
      "model_module": "@jupyter-widgets/controls",
      "model_module_version": "1.5.0",
      "model_name": "ButtonModel",
      "state": {
       "icon": "close",
       "layout": "IPY_MODEL_55f266ff322146f78856cf957edd3f3c",
       "style": "IPY_MODEL_daf233f22325439aac6f2380fa6cb55b"
      }
     },
     "269a7cbd838b4dac92ec330d8d85edc5": {
      "model_module": "@jupyter-widgets/controls",
      "model_module_version": "1.5.0",
      "model_name": "HTMLModel",
      "state": {
       "layout": "IPY_MODEL_90e86fd48b74462eb95c8b9eff08be13",
       "style": "IPY_MODEL_ed9275960dbf4122bcec0e212177abc8",
       "value": "job has successfully run"
      }
     },
     "26b36cc51e9d4662b48692422ea4bd97": {
      "model_module": "@jupyter-widgets/controls",
      "model_module_version": "1.5.0",
      "model_name": "ButtonModel",
      "state": {
       "icon": "close",
       "layout": "IPY_MODEL_c65634b3a5a74ee48254deba48f9c2c7",
       "style": "IPY_MODEL_4c0bd7509f12470aad92fe71873060d8"
      }
     },
     "2a6a5bf516e04f78ba221bd4c1c141cc": {
      "model_module": "@jupyter-widgets/controls",
      "model_module_version": "1.5.0",
      "model_name": "DescriptionStyleModel",
      "state": {
       "description_width": ""
      }
     },
     "2b4a749833f747d5a563c19b49006595": {
      "model_module": "@jupyter-widgets/controls",
      "model_module_version": "1.5.0",
      "model_name": "ButtonStyleModel",
      "state": {
       "button_color": "white"
      }
     },
     "2cb1f9bfa5c8441b98df10a823d1c2dc": {
      "model_module": "@jupyter-widgets/controls",
      "model_module_version": "1.5.0",
      "model_name": "HTMLModel",
      "state": {
       "layout": "IPY_MODEL_fc3d1e44ea8540bfa8731a68be7be948",
       "style": "IPY_MODEL_a0151fc188a04b549d4cfcd98ffd7e26",
       "value": "637259aead241454fd11128f"
      }
     },
     "2cfab0d8a07c48608a32c642c22a7a74": {
      "model_module": "@jupyter-widgets/controls",
      "model_module_version": "1.5.0",
      "model_name": "HBoxModel",
      "state": {
       "children": [
        "IPY_MODEL_e5330d3c37424f7699fdb1075be1d3b3",
        "IPY_MODEL_da5056e0ecb74d9bb3590ffc4994c6d0",
        "IPY_MODEL_ba04b14199b949a28bd87bcd0e9b8d7d",
        "IPY_MODEL_6fde2c2a19a24094860790c57e0d55da",
        "IPY_MODEL_a6796a9677bb4f9eb19c0d7dfd5ef495"
       ],
       "layout": "IPY_MODEL_517d5192a618455b9bfb0579fef21cfa"
      }
     },
     "2dde1f02517e4fa4b4013404d0943e23": {
      "model_module": "@jupyter-widgets/base",
      "model_module_version": "1.2.0",
      "model_name": "LayoutModel",
      "state": {
       "width": "70px"
      }
     },
     "3045e819c819474186c53effa17b7ffc": {
      "model_module": "@jupyter-widgets/base",
      "model_module_version": "1.2.0",
      "model_name": "LayoutModel",
      "state": {
       "margin": "0px 0px 10px 0px"
      }
     },
     "35cba7927d4d4e3aa45f9ba9f428dc26": {
      "model_module": "@jupyter-widgets/base",
      "model_module_version": "1.2.0",
      "model_name": "LayoutModel",
      "state": {
       "width": "70px"
      }
     },
     "37c9a7b728714c8da68ca0f2279256fd": {
      "model_module": "@jupyter-widgets/base",
      "model_module_version": "1.2.0",
      "model_name": "LayoutModel",
      "state": {
       "width": "95px"
      }
     },
     "3be3edf846144af0be11218f1e752c70": {
      "model_module": "@jupyter-widgets/base",
      "model_module_version": "1.2.0",
      "model_name": "LayoutModel",
      "state": {
       "width": "145px"
      }
     },
     "3d738cef56bc46d7a355d1ef345230d9": {
      "model_module": "@jupyter-widgets/base",
      "model_module_version": "1.2.0",
      "model_name": "LayoutModel",
      "state": {
       "width": "190px"
      }
     },
     "40090acb442d4d0ba39145519b867fcb": {
      "model_module": "@jupyter-widgets/controls",
      "model_module_version": "1.5.0",
      "model_name": "HBoxModel",
      "state": {
       "children": [
        "IPY_MODEL_8b61e8492cba492c948dc059bb6ec3aa",
        "IPY_MODEL_87daf469e6cb4609ba9b0b8451cc402a",
        "IPY_MODEL_a67ce8518dd54f7d91ef428a1d35a841",
        "IPY_MODEL_cba751c175344d288ad0a9a59a21504a",
        "IPY_MODEL_f967ab3d9cc341b98724a550d70ca66c",
        "IPY_MODEL_76eec5567375490ebee0b0661296242a"
       ],
       "layout": "IPY_MODEL_4ba2000161554579add8c9cf89b5f44b"
      }
     },
     "43fdf1a5f3004394ac01e3481fb42d91": {
      "model_module": "@jupyter-widgets/base",
      "model_module_version": "1.2.0",
      "model_name": "LayoutModel",
      "state": {
       "width": "145px"
      }
     },
     "4760e531370449928491c05c3c1ad87c": {
      "model_module": "@jupyter-widgets/controls",
      "model_module_version": "1.5.0",
      "model_name": "HTMLModel",
      "state": {
       "layout": "IPY_MODEL_def00cacba1743e78492c4f521d33f05",
       "style": "IPY_MODEL_8340849c55724d9e9d7472c6ee712599",
       "value": "job has successfully run"
      }
     },
     "4a210bbc047f46e58ed3d3ebb8eea645": {
      "model_module": "@jupyter-widgets/controls",
      "model_module_version": "1.5.0",
      "model_name": "DescriptionStyleModel",
      "state": {
       "description_width": ""
      }
     },
     "4ba2000161554579add8c9cf89b5f44b": {
      "model_module": "@jupyter-widgets/base",
      "model_module_version": "1.2.0",
      "model_name": "LayoutModel",
      "state": {
       "max_width": "700px",
       "min_width": "700px"
      }
     },
     "4c0bd7509f12470aad92fe71873060d8": {
      "model_module": "@jupyter-widgets/controls",
      "model_module_version": "1.5.0",
      "model_name": "ButtonStyleModel",
      "state": {
       "button_color": "white"
      }
     },
     "517d5192a618455b9bfb0579fef21cfa": {
      "model_module": "@jupyter-widgets/base",
      "model_module_version": "1.2.0",
      "model_name": "LayoutModel",
      "state": {
       "margin": "0px 0px 0px 37px",
       "width": "600px"
      }
     },
     "52696378bef64bb29ff1bdedb01cc82a": {
      "model_module": "@jupyter-widgets/controls",
      "model_module_version": "1.5.0",
      "model_name": "ButtonStyleModel",
      "state": {
       "button_color": "white"
      }
     },
     "52a4dfcc8e264b3180ac218b6f95b5f7": {
      "model_module": "@jupyter-widgets/controls",
      "model_module_version": "1.5.0",
      "model_name": "DescriptionStyleModel",
      "state": {
       "description_width": ""
      }
     },
     "55f266ff322146f78856cf957edd3f3c": {
      "model_module": "@jupyter-widgets/base",
      "model_module_version": "1.2.0",
      "model_name": "LayoutModel",
      "state": {
       "margin": "0px 5px 0px 0px",
       "width": "32px"
      }
     },
     "568a66d9a6c14d1085639373a2fbcb20": {
      "model_module": "@jupyter-widgets/controls",
      "model_module_version": "1.5.0",
      "model_name": "DescriptionStyleModel",
      "state": {
       "description_width": ""
      }
     },
     "572e762978f340158418dd75a5e94814": {
      "model_module": "@jupyter-widgets/controls",
      "model_module_version": "1.5.0",
      "model_name": "ButtonStyleModel",
      "state": {
       "button_color": "white"
      }
     },
     "5a3c047e7f4b4a949e15475c4e8273f8": {
      "model_module": "@jupyter-widgets/base",
      "model_module_version": "1.2.0",
      "model_name": "LayoutModel",
      "state": {
       "width": "190px"
      }
     },
     "5c99f13003384fccbfefa4c3de35b654": {
      "model_module": "@jupyter-widgets/controls",
      "model_module_version": "1.5.0",
      "model_name": "DescriptionStyleModel",
      "state": {
       "description_width": ""
      }
     },
     "5e28b7e2582941fe8b10cafdac4f6f87": {
      "model_module": "@jupyter-widgets/base",
      "model_module_version": "1.2.0",
      "model_name": "LayoutModel",
      "state": {
       "margin": "0px 5px 0px 0px",
       "width": "32px"
      }
     },
     "5f208a16c4e64c30bdfc2e7e78cd1c6c": {
      "model_module": "@jupyter-widgets/controls",
      "model_module_version": "1.5.0",
      "model_name": "HBoxModel",
      "state": {
       "children": [
        "IPY_MODEL_6c7cb4d9f88d40a9922fe52ea14d7273",
        "IPY_MODEL_609bd0b375b7498c82987a8f186f46e0",
        "IPY_MODEL_ae8b4ff6be284223af8c34f438c55800",
        "IPY_MODEL_f9d6ed9b3c77415ebfa22d13625cf679",
        "IPY_MODEL_cd81cd52229b4f009fa5b5f42af13965",
        "IPY_MODEL_759ca5ae69764c0489c0cf4aedeb889b"
       ],
       "layout": "IPY_MODEL_71a3f4b1cb0544dea650396725b1c4c5"
      }
     },
     "5fd643de4b1a4e6fa569fd8954fb74eb": {
      "model_module": "@jupyter-widgets/controls",
      "model_module_version": "1.5.0",
      "model_name": "DescriptionStyleModel",
      "state": {
       "description_width": ""
      }
     },
     "609bd0b375b7498c82987a8f186f46e0": {
      "model_module": "@jupyter-widgets/controls",
      "model_module_version": "1.5.0",
      "model_name": "HTMLModel",
      "state": {
       "layout": "IPY_MODEL_85d30ccbe29449b0815b8c9eb65437d1",
       "style": "IPY_MODEL_2a6a5bf516e04f78ba221bd4c1c141cc",
       "value": "637253293f146d7be2ee99f8"
      }
     },
     "62169f2bae1947b9acda269e335fa142": {
      "model_module": "@jupyter-widgets/base",
      "model_module_version": "1.2.0",
      "model_name": "LayoutModel",
      "state": {
       "overflow_x": "scroll"
      }
     },
     "6295975a4d144650b0450a7f85422272": {
      "model_module": "@jupyter-widgets/controls",
      "model_module_version": "1.5.0",
      "model_name": "DescriptionStyleModel",
      "state": {
       "description_width": ""
      }
     },
     "657f715c58a24b22966fb343119bf1fc": {
      "model_module": "@jupyter-widgets/controls",
      "model_module_version": "1.5.0",
      "model_name": "DescriptionStyleModel",
      "state": {
       "description_width": ""
      }
     },
     "65d2709c003347a09a67a2435014e38a": {
      "model_module": "@jupyter-widgets/controls",
      "model_module_version": "1.5.0",
      "model_name": "HTMLModel",
      "state": {
       "layout": "IPY_MODEL_93712808d35646dbb19893f53b92152f",
       "style": "IPY_MODEL_8fb4f1b8d9934f3589c0b59c89070426",
       "value": "ibmq_belem"
      }
     },
     "6c2f8ac395e24868acdec36efb3962cd": {
      "model_module": "@jupyter-widgets/base",
      "model_module_version": "1.2.0",
      "model_name": "LayoutModel",
      "state": {
       "width": "190px"
      }
     },
     "6c7cb4d9f88d40a9922fe52ea14d7273": {
      "model_module": "@jupyter-widgets/controls",
      "model_module_version": "1.5.0",
      "model_name": "ButtonModel",
      "state": {
       "icon": "close",
       "layout": "IPY_MODEL_b83a33117c974b909242e185709dca9f",
       "style": "IPY_MODEL_52696378bef64bb29ff1bdedb01cc82a"
      }
     },
     "6e860f4964654cca9b163899f784940e": {
      "model_module": "@jupyter-widgets/base",
      "model_module_version": "1.2.0",
      "model_name": "LayoutModel",
      "state": {
       "margin": "0px 5px 0px 0px",
       "width": "32px"
      }
     },
     "6efae8c2a972437c95e07ec42714ead3": {
      "model_module": "@jupyter-widgets/controls",
      "model_module_version": "1.5.0",
      "model_name": "DescriptionStyleModel",
      "state": {
       "description_width": ""
      }
     },
     "6f57f2d7c4af41229cb835824c5a30e8": {
      "model_module": "@jupyter-widgets/controls",
      "model_module_version": "1.5.0",
      "model_name": "DescriptionStyleModel",
      "state": {
       "description_width": ""
      }
     },
     "6fde2c2a19a24094860790c57e0d55da": {
      "model_module": "@jupyter-widgets/controls",
      "model_module_version": "1.5.0",
      "model_name": "HTMLModel",
      "state": {
       "layout": "IPY_MODEL_ca6bb214703942ccbe087f3fc86fbd9c",
       "style": "IPY_MODEL_4a210bbc047f46e58ed3d3ebb8eea645",
       "value": "<h5>Queue</h5>"
      }
     },
     "6ff3a4d0138041299406cdf56af12b3c": {
      "model_module": "@jupyter-widgets/controls",
      "model_module_version": "1.5.0",
      "model_name": "DescriptionStyleModel",
      "state": {
       "description_width": ""
      }
     },
     "7016fe094dd747d9989a653b51ec2d36": {
      "model_module": "@jupyter-widgets/controls",
      "model_module_version": "1.5.0",
      "model_name": "DescriptionStyleModel",
      "state": {
       "description_width": ""
      }
     },
     "71a3f4b1cb0544dea650396725b1c4c5": {
      "model_module": "@jupyter-widgets/base",
      "model_module_version": "1.2.0",
      "model_name": "LayoutModel",
      "state": {
       "max_width": "700px",
       "min_width": "700px"
      }
     },
     "72df8f10d9414d0b91f7cefda26f3498": {
      "model_module": "@jupyter-widgets/controls",
      "model_module_version": "1.5.0",
      "model_name": "DescriptionStyleModel",
      "state": {
       "description_width": ""
      }
     },
     "750c894379804701ad4cb629ba7b2749": {
      "model_module": "@jupyter-widgets/base",
      "model_module_version": "1.2.0",
      "model_name": "LayoutModel",
      "state": {
       "width": "95px"
      }
     },
     "75674a972d5e40cf844bcb1c41de37d7": {
      "model_module": "@jupyter-widgets/controls",
      "model_module_version": "1.5.0",
      "model_name": "DescriptionStyleModel",
      "state": {
       "description_width": ""
      }
     },
     "759ca5ae69764c0489c0cf4aedeb889b": {
      "model_module": "@jupyter-widgets/controls",
      "model_module_version": "1.5.0",
      "model_name": "HTMLModel",
      "state": {
       "layout": "IPY_MODEL_62169f2bae1947b9acda269e335fa142",
       "style": "IPY_MODEL_f0c47d79c880431eb8e791cce58f6414",
       "value": "job has successfully run"
      }
     },
     "76b2c80be5524206b57605811f4128e2": {
      "model_module": "@jupyter-widgets/controls",
      "model_module_version": "1.5.0",
      "model_name": "HTMLModel",
      "state": {
       "layout": "IPY_MODEL_8b6d078bc869465c86858c7254f8cb2a",
       "style": "IPY_MODEL_6ff3a4d0138041299406cdf56af12b3c",
       "value": "job has successfully run"
      }
     },
     "76eec5567375490ebee0b0661296242a": {
      "model_module": "@jupyter-widgets/controls",
      "model_module_version": "1.5.0",
      "model_name": "HTMLModel",
      "state": {
       "layout": "IPY_MODEL_d606322e805a439495b82fe98473db54",
       "style": "IPY_MODEL_17d77daf586c4effb91a104df2d7125d",
       "value": "job has successfully run"
      }
     },
     "79a0ec7352a5440f972b1449893fcd84": {
      "model_module": "@jupyter-widgets/controls",
      "model_module_version": "1.5.0",
      "model_name": "DescriptionStyleModel",
      "state": {
       "description_width": ""
      }
     },
     "81d93eacaed94904acad7b37588c811b": {
      "model_module": "@jupyter-widgets/controls",
      "model_module_version": "1.5.0",
      "model_name": "DescriptionStyleModel",
      "state": {
       "description_width": ""
      }
     },
     "8340849c55724d9e9d7472c6ee712599": {
      "model_module": "@jupyter-widgets/controls",
      "model_module_version": "1.5.0",
      "model_name": "DescriptionStyleModel",
      "state": {
       "description_width": ""
      }
     },
     "842dab5952c54c5fb61de59fbb6725e2": {
      "model_module": "@jupyter-widgets/controls",
      "model_module_version": "1.5.0",
      "model_name": "HTMLModel",
      "state": {
       "layout": "IPY_MODEL_2dde1f02517e4fa4b4013404d0943e23",
       "style": "IPY_MODEL_b50672591b4e4ca68bad02ebea33ca08",
       "value": "-"
      }
     },
     "85d30ccbe29449b0815b8c9eb65437d1": {
      "model_module": "@jupyter-widgets/base",
      "model_module_version": "1.2.0",
      "model_name": "LayoutModel",
      "state": {
       "width": "190px"
      }
     },
     "8712a598040147bc8617545c50b018c8": {
      "model_module": "@jupyter-widgets/base",
      "model_module_version": "1.2.0",
      "model_name": "LayoutModel",
      "state": {
       "width": "95px"
      }
     },
     "87b8c5d83a8545e9a9ee5bcf779d0709": {
      "model_module": "@jupyter-widgets/controls",
      "model_module_version": "1.5.0",
      "model_name": "ButtonModel",
      "state": {
       "icon": "close",
       "layout": "IPY_MODEL_6e860f4964654cca9b163899f784940e",
       "style": "IPY_MODEL_572e762978f340158418dd75a5e94814"
      }
     },
     "87daf469e6cb4609ba9b0b8451cc402a": {
      "model_module": "@jupyter-widgets/controls",
      "model_module_version": "1.5.0",
      "model_name": "HTMLModel",
      "state": {
       "layout": "IPY_MODEL_3d738cef56bc46d7a355d1ef345230d9",
       "style": "IPY_MODEL_7016fe094dd747d9989a653b51ec2d36",
       "value": "637250cdad2414161411125c"
      }
     },
     "8b61e8492cba492c948dc059bb6ec3aa": {
      "model_module": "@jupyter-widgets/controls",
      "model_module_version": "1.5.0",
      "model_name": "ButtonModel",
      "state": {
       "icon": "close",
       "layout": "IPY_MODEL_5e28b7e2582941fe8b10cafdac4f6f87",
       "style": "IPY_MODEL_ea1b4c48fdf44778acbf4d8c9a0af939"
      }
     },
     "8b6d078bc869465c86858c7254f8cb2a": {
      "model_module": "@jupyter-widgets/base",
      "model_module_version": "1.2.0",
      "model_name": "LayoutModel",
      "state": {
       "overflow_x": "scroll"
      }
     },
     "8fb4f1b8d9934f3589c0b59c89070426": {
      "model_module": "@jupyter-widgets/controls",
      "model_module_version": "1.5.0",
      "model_name": "DescriptionStyleModel",
      "state": {
       "description_width": ""
      }
     },
     "903af9df805a4faeb8148232af875856": {
      "model_module": "@jupyter-widgets/base",
      "model_module_version": "1.2.0",
      "model_name": "LayoutModel",
      "state": {
       "width": "145px"
      }
     },
     "904c1168dba14911a394b69cedac00a9": {
      "model_module": "@jupyter-widgets/base",
      "model_module_version": "1.2.0",
      "model_name": "LayoutModel",
      "state": {
       "width": "190px"
      }
     },
     "90536e300a384cadbcc51b49d0bed3e7": {
      "model_module": "@jupyter-widgets/base",
      "model_module_version": "1.2.0",
      "model_name": "LayoutModel",
      "state": {}
     },
     "90e86fd48b74462eb95c8b9eff08be13": {
      "model_module": "@jupyter-widgets/base",
      "model_module_version": "1.2.0",
      "model_name": "LayoutModel",
      "state": {
       "overflow_x": "scroll"
      }
     },
     "9211647396a84742af2d341435cffa06": {
      "model_module": "@jupyter-widgets/controls",
      "model_module_version": "1.5.0",
      "model_name": "HTMLModel",
      "state": {
       "layout": "IPY_MODEL_a667ea4aefcd4f48a7a47de2ebf6436a",
       "style": "IPY_MODEL_52a4dfcc8e264b3180ac218b6f95b5f7",
       "value": "ibmq_belem"
      }
     },
     "9219d7711bc9404593b5f005e39aaebe": {
      "model_module": "@jupyter-widgets/controls",
      "model_module_version": "1.5.0",
      "model_name": "ButtonModel",
      "state": {
       "button_style": "primary",
       "description": "Clear",
       "layout": "IPY_MODEL_05e76cbd0544452f97a4b94932e74b48",
       "style": "IPY_MODEL_d94c49711a1542d7b0fe492c000f87f8"
      }
     },
     "9336bfc0ce7e48f2bf85de76ee07e678": {
      "model_module": "@jupyter-widgets/base",
      "model_module_version": "1.2.0",
      "model_name": "LayoutModel",
      "state": {
       "max_width": "700px",
       "min_width": "700px"
      }
     },
     "93712808d35646dbb19893f53b92152f": {
      "model_module": "@jupyter-widgets/base",
      "model_module_version": "1.2.0",
      "model_name": "LayoutModel",
      "state": {
       "width": "145px"
      }
     },
     "95dff53c4a0d4a1ba3bcf29cac217416": {
      "model_module": "@jupyter-widgets/controls",
      "model_module_version": "1.5.0",
      "model_name": "ButtonModel",
      "state": {
       "icon": "close",
       "layout": "IPY_MODEL_222f8fdea3d6407eaca8b9716aef460c",
       "style": "IPY_MODEL_2b4a749833f747d5a563c19b49006595"
      }
     },
     "96c227e5890f41a298a4002730c29ac4": {
      "model_module": "@jupyter-widgets/base",
      "model_module_version": "1.2.0",
      "model_name": "LayoutModel",
      "state": {
       "width": "95px"
      }
     },
     "96cb8bb7a2834568a9c618842fe2504b": {
      "model_module": "@jupyter-widgets/controls",
      "model_module_version": "1.5.0",
      "model_name": "DescriptionStyleModel",
      "state": {
       "description_width": ""
      }
     },
     "96fda87c7f2944fe9b1c90c19331d74e": {
      "model_module": "@jupyter-widgets/controls",
      "model_module_version": "1.5.0",
      "model_name": "DescriptionStyleModel",
      "state": {
       "description_width": ""
      }
     },
     "9b1ba59f33b64276b740e61e7e79a161": {
      "model_module": "@jupyter-widgets/controls",
      "model_module_version": "1.5.0",
      "model_name": "DescriptionStyleModel",
      "state": {
       "description_width": ""
      }
     },
     "9bd7de2fc11d4ce98c25349d1d5ab608": {
      "model_module": "@jupyter-widgets/controls",
      "model_module_version": "1.5.0",
      "model_name": "HTMLModel",
      "state": {
       "layout": "IPY_MODEL_3045e819c819474186c53effa17b7ffc",
       "style": "IPY_MODEL_aadb9c412c0b4899bcac011b6281f27e",
       "value": "<p style='font-family: IBM Plex Sans, Arial, Helvetica, sans-serif; font-size: 20px; font-weight: medium;'>Circuit Properties</p>"
      }
     },
     "a0151fc188a04b549d4cfcd98ffd7e26": {
      "model_module": "@jupyter-widgets/controls",
      "model_module_version": "1.5.0",
      "model_name": "DescriptionStyleModel",
      "state": {
       "description_width": ""
      }
     },
     "a667ea4aefcd4f48a7a47de2ebf6436a": {
      "model_module": "@jupyter-widgets/base",
      "model_module_version": "1.2.0",
      "model_name": "LayoutModel",
      "state": {
       "width": "145px"
      }
     },
     "a6796a9677bb4f9eb19c0d7dfd5ef495": {
      "model_module": "@jupyter-widgets/controls",
      "model_module_version": "1.5.0",
      "model_name": "HTMLModel",
      "state": {
       "layout": "IPY_MODEL_90536e300a384cadbcc51b49d0bed3e7",
       "style": "IPY_MODEL_6295975a4d144650b0450a7f85422272",
       "value": "<h5>Message</h5>"
      }
     },
     "a67ce8518dd54f7d91ef428a1d35a841": {
      "model_module": "@jupyter-widgets/controls",
      "model_module_version": "1.5.0",
      "model_name": "HTMLModel",
      "state": {
       "layout": "IPY_MODEL_903af9df805a4faeb8148232af875856",
       "style": "IPY_MODEL_568a66d9a6c14d1085639373a2fbcb20",
       "value": "ibmq_belem"
      }
     },
     "a6958d987f764dc6808adc341f0a94e7": {
      "model_module": "@jupyter-widgets/controls",
      "model_module_version": "1.5.0",
      "model_name": "DescriptionStyleModel",
      "state": {
       "description_width": ""
      }
     },
     "a79d775eb784426f9dcbbec35570dda1": {
      "model_module": "@jupyter-widgets/base",
      "model_module_version": "1.2.0",
      "model_name": "LayoutModel",
      "state": {
       "width": "145px"
      }
     },
     "aadb9c412c0b4899bcac011b6281f27e": {
      "model_module": "@jupyter-widgets/controls",
      "model_module_version": "1.5.0",
      "model_name": "DescriptionStyleModel",
      "state": {
       "description_width": ""
      }
     },
     "ae61919ce74e490d8a6b57c50c8f4012": {
      "model_module": "@jupyter-widgets/controls",
      "model_module_version": "1.5.0",
      "model_name": "DescriptionStyleModel",
      "state": {
       "description_width": ""
      }
     },
     "ae8b4ff6be284223af8c34f438c55800": {
      "model_module": "@jupyter-widgets/controls",
      "model_module_version": "1.5.0",
      "model_name": "HTMLModel",
      "state": {
       "layout": "IPY_MODEL_43fdf1a5f3004394ac01e3481fb42d91",
       "style": "IPY_MODEL_79a0ec7352a5440f972b1449893fcd84",
       "value": "ibmq_belem"
      }
     },
     "b0e412ca68db418a938ac0553b44e4de": {
      "model_module": "@jupyter-widgets/controls",
      "model_module_version": "1.5.0",
      "model_name": "HTMLModel",
      "state": {
       "layout": "IPY_MODEL_dda27593fa504585857bef1648982f11",
       "style": "IPY_MODEL_efc8f01f3dd54e51b2088f00ddffe87b",
       "value": "<font style='color:#34BC6E'>DONE</font>"
      }
     },
     "b1efe3f47b3a433798068e826d75eab2": {
      "model_module": "@jupyter-widgets/controls",
      "model_module_version": "1.5.0",
      "model_name": "HBoxModel",
      "state": {
       "children": [
        "IPY_MODEL_259e9f2fa54f4a21822ca6fb44e8e900",
        "IPY_MODEL_e3249a30db524c18b60a27a7feb19f8e",
        "IPY_MODEL_bc6e62286f6240b1aa7cbb8dbd899a0d",
        "IPY_MODEL_14a4cae405c844ffba88cc0de06f01cb",
        "IPY_MODEL_e7c6ef9d6be14c1b84216dca165e659d",
        "IPY_MODEL_269a7cbd838b4dac92ec330d8d85edc5"
       ],
       "layout": "IPY_MODEL_2228112381884067912983ca17ef4891"
      }
     },
     "b50672591b4e4ca68bad02ebea33ca08": {
      "model_module": "@jupyter-widgets/controls",
      "model_module_version": "1.5.0",
      "model_name": "DescriptionStyleModel",
      "state": {
       "description_width": ""
      }
     },
     "b83a33117c974b909242e185709dca9f": {
      "model_module": "@jupyter-widgets/base",
      "model_module_version": "1.2.0",
      "model_name": "LayoutModel",
      "state": {
       "margin": "0px 5px 0px 0px",
       "width": "32px"
      }
     },
     "ba04b14199b949a28bd87bcd0e9b8d7d": {
      "model_module": "@jupyter-widgets/controls",
      "model_module_version": "1.5.0",
      "model_name": "HTMLModel",
      "state": {
       "layout": "IPY_MODEL_8712a598040147bc8617545c50b018c8",
       "style": "IPY_MODEL_a6958d987f764dc6808adc341f0a94e7",
       "value": "<h5>Status</h5>"
      }
     },
     "bc6e62286f6240b1aa7cbb8dbd899a0d": {
      "model_module": "@jupyter-widgets/controls",
      "model_module_version": "1.5.0",
      "model_name": "HTMLModel",
      "state": {
       "layout": "IPY_MODEL_c02efdab7cfb496bac7caf193879a835",
       "style": "IPY_MODEL_81d93eacaed94904acad7b37588c811b",
       "value": "ibmq_belem"
      }
     },
     "be5f621f7e5744baa1c7c8af64a72c7d": {
      "model_module": "@jupyter-widgets/base",
      "model_module_version": "1.2.0",
      "model_name": "LayoutModel",
      "state": {
       "grid_template_areas": "\n                                       \". . . . right \"\n                                        ",
       "grid_template_columns": "20% 20% 20% 20% 20%",
       "width": "100%"
      }
     },
     "c02efdab7cfb496bac7caf193879a835": {
      "model_module": "@jupyter-widgets/base",
      "model_module_version": "1.2.0",
      "model_name": "LayoutModel",
      "state": {
       "width": "145px"
      }
     },
     "c5a8125b3e5d4772aae19a794149b58f": {
      "model_module": "@jupyter-widgets/base",
      "model_module_version": "1.2.0",
      "model_name": "LayoutModel",
      "state": {
       "width": "70px"
      }
     },
     "c65634b3a5a74ee48254deba48f9c2c7": {
      "model_module": "@jupyter-widgets/base",
      "model_module_version": "1.2.0",
      "model_name": "LayoutModel",
      "state": {
       "margin": "0px 5px 0px 0px",
       "width": "32px"
      }
     },
     "c9237a1f8c2b45f49f0f7e8eb18d6c1a": {
      "model_module": "@jupyter-widgets/controls",
      "model_module_version": "1.5.0",
      "model_name": "HTMLModel",
      "state": {
       "layout": "IPY_MODEL_904c1168dba14911a394b69cedac00a9",
       "style": "IPY_MODEL_5fd643de4b1a4e6fa569fd8954fb74eb",
       "value": "637251aec18278737476e231"
      }
     },
     "c9c26e0d2bfd41a9820c9a7d5e9afa13": {
      "model_module": "@jupyter-widgets/controls",
      "model_module_version": "1.5.0",
      "model_name": "HTMLModel",
      "state": {
       "layout": "IPY_MODEL_6c2f8ac395e24868acdec36efb3962cd",
       "style": "IPY_MODEL_197b06358c47434db2827c5c7059e6f7",
       "value": "63725788e0f73066a19bf7b3"
      }
     },
     "ca6bb214703942ccbe087f3fc86fbd9c": {
      "model_module": "@jupyter-widgets/base",
      "model_module_version": "1.2.0",
      "model_name": "LayoutModel",
      "state": {
       "width": "70px"
      }
     },
     "cba751c175344d288ad0a9a59a21504a": {
      "model_module": "@jupyter-widgets/controls",
      "model_module_version": "1.5.0",
      "model_name": "HTMLModel",
      "state": {
       "layout": "IPY_MODEL_37c9a7b728714c8da68ca0f2279256fd",
       "style": "IPY_MODEL_6efae8c2a972437c95e07ec42714ead3",
       "value": "<font style='color:#34BC6E'>DONE</font>"
      }
     },
     "cd81cd52229b4f009fa5b5f42af13965": {
      "model_module": "@jupyter-widgets/controls",
      "model_module_version": "1.5.0",
      "model_name": "HTMLModel",
      "state": {
       "layout": "IPY_MODEL_1fc9eb6bf62b41a8930a6e2325b5ca63",
       "style": "IPY_MODEL_75674a972d5e40cf844bcb1c41de37d7",
       "value": "-"
      }
     },
     "ce65c70bfc4f412ba0b6ef2fb86cb5c4": {
      "model_module": "@jupyter-widgets/controls",
      "model_module_version": "1.5.0",
      "model_name": "DescriptionStyleModel",
      "state": {
       "description_width": ""
      }
     },
     "cf0aac52768b4c4e87a6febdb876d892": {
      "model_module": "@jupyter-widgets/controls",
      "model_module_version": "1.5.0",
      "model_name": "GridBoxModel",
      "state": {
       "children": [
        "IPY_MODEL_9219d7711bc9404593b5f005e39aaebe"
       ],
       "layout": "IPY_MODEL_be5f621f7e5744baa1c7c8af64a72c7d"
      }
     },
     "d0860407bce345f7aa9f7ea21029acf7": {
      "model_module": "@jupyter-widgets/base",
      "model_module_version": "1.2.0",
      "model_name": "LayoutModel",
      "state": {
       "max_width": "700px",
       "min_width": "700px"
      }
     },
     "d4e1c5c727304de7b826b496f47b04ac": {
      "model_module": "@jupyter-widgets/controls",
      "model_module_version": "1.5.0",
      "model_name": "HTMLModel",
      "state": {
       "layout": "IPY_MODEL_750c894379804701ad4cb629ba7b2749",
       "style": "IPY_MODEL_657f715c58a24b22966fb343119bf1fc",
       "value": "<font style='color:#34BC6E'>DONE</font>"
      }
     },
     "d606322e805a439495b82fe98473db54": {
      "model_module": "@jupyter-widgets/base",
      "model_module_version": "1.2.0",
      "model_name": "LayoutModel",
      "state": {
       "overflow_x": "scroll"
      }
     },
     "d6658711eac74ba1b7d8b66cc89a7c75": {
      "model_module": "@jupyter-widgets/controls",
      "model_module_version": "1.5.0",
      "model_name": "HBoxModel",
      "state": {
       "children": [
        "IPY_MODEL_95dff53c4a0d4a1ba3bcf29cac217416",
        "IPY_MODEL_c9c26e0d2bfd41a9820c9a7d5e9afa13",
        "IPY_MODEL_f98d27cf32b748c2819868506dca3a4d",
        "IPY_MODEL_d4e1c5c727304de7b826b496f47b04ac",
        "IPY_MODEL_842dab5952c54c5fb61de59fbb6725e2",
        "IPY_MODEL_1df5f09b31134688866249ac6d07a31e"
       ],
       "layout": "IPY_MODEL_d0860407bce345f7aa9f7ea21029acf7"
      }
     },
     "d8a124e1b1414218a3246f6406ff6d6c": {
      "model_module": "@jupyter-widgets/controls",
      "model_module_version": "1.5.0",
      "model_name": "DescriptionStyleModel",
      "state": {
       "description_width": ""
      }
     },
     "d94c49711a1542d7b0fe492c000f87f8": {
      "model_module": "@jupyter-widgets/controls",
      "model_module_version": "1.5.0",
      "model_name": "ButtonStyleModel",
      "state": {}
     },
     "d95cc84d42264a82a775cf34f55d3d04": {
      "model_module": "@jupyter-widgets/controls",
      "model_module_version": "1.5.0",
      "model_name": "DescriptionStyleModel",
      "state": {
       "description_width": ""
      }
     },
     "da09bf9e08e74cc1abbd1616fd2d0f05": {
      "model_module": "@jupyter-widgets/controls",
      "model_module_version": "1.5.0",
      "model_name": "HBoxModel",
      "state": {
       "children": [
        "IPY_MODEL_26b36cc51e9d4662b48692422ea4bd97",
        "IPY_MODEL_c9237a1f8c2b45f49f0f7e8eb18d6c1a",
        "IPY_MODEL_9211647396a84742af2d341435cffa06",
        "IPY_MODEL_b0e412ca68db418a938ac0553b44e4de",
        "IPY_MODEL_dc10a20b1ee14964aefcecb84a91f1dc",
        "IPY_MODEL_76b2c80be5524206b57605811f4128e2"
       ],
       "layout": "IPY_MODEL_9336bfc0ce7e48f2bf85de76ee07e678"
      }
     },
     "da5056e0ecb74d9bb3590ffc4994c6d0": {
      "model_module": "@jupyter-widgets/controls",
      "model_module_version": "1.5.0",
      "model_name": "HTMLModel",
      "state": {
       "layout": "IPY_MODEL_3be3edf846144af0be11218f1e752c70",
       "style": "IPY_MODEL_ce65c70bfc4f412ba0b6ef2fb86cb5c4",
       "value": "<h5>Backend</h5>"
      }
     },
     "daf233f22325439aac6f2380fa6cb55b": {
      "model_module": "@jupyter-widgets/controls",
      "model_module_version": "1.5.0",
      "model_name": "ButtonStyleModel",
      "state": {
       "button_color": "white"
      }
     },
     "dc10a20b1ee14964aefcecb84a91f1dc": {
      "model_module": "@jupyter-widgets/controls",
      "model_module_version": "1.5.0",
      "model_name": "HTMLModel",
      "state": {
       "layout": "IPY_MODEL_f49725a3a07d40d685f6d8cd3ea0aefc",
       "style": "IPY_MODEL_d8a124e1b1414218a3246f6406ff6d6c",
       "value": "-"
      }
     },
     "dcc780be49c04553bfd746629cec5d06": {
      "model_module": "@jupyter-widgets/controls",
      "model_module_version": "1.5.0",
      "model_name": "DescriptionStyleModel",
      "state": {
       "description_width": ""
      }
     },
     "dda27593fa504585857bef1648982f11": {
      "model_module": "@jupyter-widgets/base",
      "model_module_version": "1.2.0",
      "model_name": "LayoutModel",
      "state": {
       "width": "95px"
      }
     },
     "dea57b38d74149c1b580163e10da19ef": {
      "model_module": "@jupyter-widgets/base",
      "model_module_version": "1.2.0",
      "model_name": "LayoutModel",
      "state": {
       "overflow_x": "scroll"
      }
     },
     "def00cacba1743e78492c4f521d33f05": {
      "model_module": "@jupyter-widgets/base",
      "model_module_version": "1.2.0",
      "model_name": "LayoutModel",
      "state": {
       "overflow_x": "scroll"
      }
     },
     "e2196f16a1a14ad5accc89ff2a8b1bac": {
      "model_module": "@jupyter-widgets/base",
      "model_module_version": "1.2.0",
      "model_name": "LayoutModel",
      "state": {
       "width": "95px"
      }
     },
     "e3249a30db524c18b60a27a7feb19f8e": {
      "model_module": "@jupyter-widgets/controls",
      "model_module_version": "1.5.0",
      "model_name": "HTMLModel",
      "state": {
       "layout": "IPY_MODEL_ff19f3a6e9674101aabcea933558bb8b",
       "style": "IPY_MODEL_96fda87c7f2944fe9b1c90c19331d74e",
       "value": "6372559ed0f9b2806f653972"
      }
     },
     "e5330d3c37424f7699fdb1075be1d3b3": {
      "model_module": "@jupyter-widgets/controls",
      "model_module_version": "1.5.0",
      "model_name": "HTMLModel",
      "state": {
       "layout": "IPY_MODEL_5a3c047e7f4b4a949e15475c4e8273f8",
       "style": "IPY_MODEL_d95cc84d42264a82a775cf34f55d3d04",
       "value": "<h5>Job ID</h5>"
      }
     },
     "e7c6ef9d6be14c1b84216dca165e659d": {
      "model_module": "@jupyter-widgets/controls",
      "model_module_version": "1.5.0",
      "model_name": "HTMLModel",
      "state": {
       "layout": "IPY_MODEL_1fd791bbca834aabb08899838c2a0534",
       "style": "IPY_MODEL_96cb8bb7a2834568a9c618842fe2504b",
       "value": "-"
      }
     },
     "ea1b4c48fdf44778acbf4d8c9a0af939": {
      "model_module": "@jupyter-widgets/controls",
      "model_module_version": "1.5.0",
      "model_name": "ButtonStyleModel",
      "state": {
       "button_color": "white"
      }
     },
     "ecf1e082d20847d9ad459074be2a19e5": {
      "model_module": "@jupyter-widgets/base",
      "model_module_version": "1.2.0",
      "model_name": "LayoutModel",
      "state": {
       "max_width": "700px",
       "min_width": "700px"
      }
     },
     "ed9275960dbf4122bcec0e212177abc8": {
      "model_module": "@jupyter-widgets/controls",
      "model_module_version": "1.5.0",
      "model_name": "DescriptionStyleModel",
      "state": {
       "description_width": ""
      }
     },
     "efc8f01f3dd54e51b2088f00ddffe87b": {
      "model_module": "@jupyter-widgets/controls",
      "model_module_version": "1.5.0",
      "model_name": "DescriptionStyleModel",
      "state": {
       "description_width": ""
      }
     },
     "f0c47d79c880431eb8e791cce58f6414": {
      "model_module": "@jupyter-widgets/controls",
      "model_module_version": "1.5.0",
      "model_name": "DescriptionStyleModel",
      "state": {
       "description_width": ""
      }
     },
     "f49725a3a07d40d685f6d8cd3ea0aefc": {
      "model_module": "@jupyter-widgets/base",
      "model_module_version": "1.2.0",
      "model_name": "LayoutModel",
      "state": {
       "width": "70px"
      }
     },
     "f967ab3d9cc341b98724a550d70ca66c": {
      "model_module": "@jupyter-widgets/controls",
      "model_module_version": "1.5.0",
      "model_name": "HTMLModel",
      "state": {
       "layout": "IPY_MODEL_c5a8125b3e5d4772aae19a794149b58f",
       "style": "IPY_MODEL_211a8081cc704636b2383ea19f86ab44",
       "value": "-"
      }
     },
     "f98d27cf32b748c2819868506dca3a4d": {
      "model_module": "@jupyter-widgets/controls",
      "model_module_version": "1.5.0",
      "model_name": "HTMLModel",
      "state": {
       "layout": "IPY_MODEL_a79d775eb784426f9dcbbec35570dda1",
       "style": "IPY_MODEL_72df8f10d9414d0b91f7cefda26f3498",
       "value": "ibmq_belem"
      }
     },
     "f9d6ed9b3c77415ebfa22d13625cf679": {
      "model_module": "@jupyter-widgets/controls",
      "model_module_version": "1.5.0",
      "model_name": "HTMLModel",
      "state": {
       "layout": "IPY_MODEL_96c227e5890f41a298a4002730c29ac4",
       "style": "IPY_MODEL_9b1ba59f33b64276b740e61e7e79a161",
       "value": "<font style='color:#34BC6E'>DONE</font>"
      }
     },
     "fc3d1e44ea8540bfa8731a68be7be948": {
      "model_module": "@jupyter-widgets/base",
      "model_module_version": "1.2.0",
      "model_name": "LayoutModel",
      "state": {
       "width": "190px"
      }
     },
     "ff19f3a6e9674101aabcea933558bb8b": {
      "model_module": "@jupyter-widgets/base",
      "model_module_version": "1.2.0",
      "model_name": "LayoutModel",
      "state": {
       "width": "190px"
      }
     }
    },
    "version_major": 2,
    "version_minor": 0
   }
  }
 },
 "nbformat": 4,
 "nbformat_minor": 5
}
